{
 "cells": [
  {
   "cell_type": "code",
   "execution_count": 1,
   "metadata": {},
   "outputs": [],
   "source": [
    "import pandas as pd\n",
    "import numpy as np"
   ]
  },
  {
   "cell_type": "code",
   "execution_count": 2,
   "metadata": {},
   "outputs": [],
   "source": [
    "complaints = pd.read_csv('data.csv')"
   ]
  },
  {
   "cell_type": "code",
   "execution_count": 3,
   "metadata": {},
   "outputs": [
    {
     "data": {
      "text/plain": [
       "DateStamp                                          1\n",
       "UniqueComplaintId                              68467\n",
       "Close Year                                        12\n",
       "Received Year                                     18\n",
       "Borough of Occurrence                              6\n",
       "Is Full Investigation                              2\n",
       "Complaint Has Video Evidence                       2\n",
       "Complaint Filed Mode                               7\n",
       "Complaint Filed Place                             15\n",
       "Complaint Contains Stop & Frisk Allegations        2\n",
       "Incident Location                                 15\n",
       "Incident Year                                     17\n",
       "Encounter Outcome                                  4\n",
       "Reason For Initial Contact                        49\n",
       "Allegation FADO Type                               4\n",
       "Allegation Description                            56\n",
       "dtype: int64"
      ]
     },
     "execution_count": 3,
     "metadata": {},
     "output_type": "execute_result"
    }
   ],
   "source": [
    "#Q1: calculating the unique number of complaints which does not have NaN values\n",
    "NaN_rows = complaints[complaints.isnull().any(1)]\n",
    "new_data = complaints[~complaints.index.isin(NaN_rows.index)]\n",
    "new_data.nunique()"
   ]
  },
  {
   "cell_type": "code",
   "execution_count": 4,
   "metadata": {},
   "outputs": [
    {
     "name": "stdout",
     "output_type": "stream",
     "text": [
      "Borough of Occurrence\n",
      "Bronx            15603\n",
      "Brooklyn         23369\n",
      "Manhattan        16067\n",
      "Outside NYC         57\n",
      "Queens           10608\n",
      "Staten Island     2763\n",
      "Name: UniqueComplaintId, dtype: int64\n"
     ]
    },
    {
     "data": {
      "text/plain": [
       "0.3413177151036266"
      ]
     },
     "execution_count": 4,
     "metadata": {},
     "output_type": "execute_result"
    }
   ],
   "source": [
    "#Q2\n",
    "unique_borough = new_data.groupby(['Borough of Occurrence', 'UniqueComplaintId']).count()\n",
    "a = unique_borough.reset_index().groupby('Borough of Occurrence')['UniqueComplaintId'].nunique()\n",
    "print(a)\n",
    "\n",
    "max(a)/len(unique_borough)"
   ]
  },
  {
   "cell_type": "code",
   "execution_count": 5,
   "metadata": {},
   "outputs": [
    {
     "data": {
      "text/plain": [
       "0    52.4755974877\n",
       "dtype: float64"
      ]
     },
     "execution_count": 5,
     "metadata": {},
     "output_type": "execute_result"
    }
   ],
   "source": [
    "#Q3 (Review again)\n",
    "borough = ['Brooklyn', 'Bronx', 'Manhattan', 'Queens', 'Staten Island']\n",
    "population = ['2648771', '1471160', '1664727', '2358582', '479458']\n",
    "population = pd.DataFrame({'Borough of Occurrence': borough, 'Population': population})\n",
    "\n",
    "incidents_2016 = new_data[new_data['Incident Year'] == 2016].groupby(['Borough of Occurrence', 'UniqueComplaintId']).count()\n",
    "incidents_each_borough = incidents_2016.reset_index().groupby('Borough of Occurrence')['UniqueComplaintId'].nunique()\n",
    "incidents_each_borough = pd.DataFrame(incidents_each_borough)\n",
    "\n",
    "merged = pd.merge(incidents_each_borough, population, on ='Borough of Occurrence')\n",
    "merged['Incidents per Capita'] = merged['UniqueComplaintId']/merged['Population'].astype(str).astype(int)\n",
    "max_per_capita = merged[merged['Incidents per Capita'] == max(merged['Incidents per Capita'])]\n",
    "\n",
    "pd.set_option('display.precision',10)\n",
    "\n",
    "(max_per_capita['UniqueComplaintId']/max_per_capita['Population'].astype(str).astype(int))*100000\n"
   ]
  },
  {
   "cell_type": "code",
   "execution_count": 6,
   "metadata": {},
   "outputs": [
    {
     "data": {
      "text/plain": [
       "0.4743745161902814"
      ]
     },
     "execution_count": 6,
     "metadata": {},
     "output_type": "execute_result"
    }
   ],
   "source": [
    "#Q4\n",
    "\n",
    "ques_4 = new_data.copy()\n",
    "\n",
    "ques_4['duration'] = ques_4['Close Year'] - ques_4['Received Year']\n",
    "ques_4 = ques_4.groupby(['UniqueComplaintId', 'duration']).count()\n",
    "\n",
    "np.array(ques_4.index.get_level_values('duration')).mean()"
   ]
  },
  {
   "cell_type": "code",
   "execution_count": 7,
   "metadata": {},
   "outputs": [
    {
     "data": {
      "text/plain": [
       "array([2181.4       , 1368.90909091,  556.41818182])"
      ]
     },
     "execution_count": 7,
     "metadata": {},
     "output_type": "execute_result"
    }
   ],
   "source": [
    "#Q5\n",
    "\n",
    "ques_5 = new_data.copy()\n",
    "ques_5 = ques_5.groupby(['Incident Year', 'Complaint Contains Stop & Frisk Allegations']).count()\n",
    "ques_5 = ques_5[ques_5.index.get_level_values('Complaint Contains Stop & Frisk Allegations') == True]\n",
    "ques_5 = ques_5.reset_index(level=[0,1])\n",
    "ques_5 = ques_5[(ques_5['Incident Year'] >= 2007) & (ques_5['Incident Year']<= 2016)]\n",
    "final = ques_5.loc[:,['Incident Year','DateStamp']]\n",
    "final.columns = ['Incident Year', 'Count']\n",
    "\n",
    "import matplotlib.pyplot as plt\n",
    "from sklearn.linear_model import LinearRegression\n",
    "model = LinearRegression()\n",
    "\n",
    "x_train = final['Incident Year'].values.reshape(10,1)\n",
    "y_train = final['Count']\n",
    "\n",
    "x_test = [[2017],[2018],[2019]]\n",
    "\n",
    "model.fit(x_train, y_train)\n",
    "y_pred = model.predict(x_test)\n",
    "\n",
    "y_pred"
   ]
  },
  {
   "cell_type": "code",
   "execution_count": 8,
   "metadata": {},
   "outputs": [
    {
     "data": {
      "text/html": [
       "<div>\n",
       "<style scoped>\n",
       "    .dataframe tbody tr th:only-of-type {\n",
       "        vertical-align: middle;\n",
       "    }\n",
       "\n",
       "    .dataframe tbody tr th {\n",
       "        vertical-align: top;\n",
       "    }\n",
       "\n",
       "    .dataframe thead th {\n",
       "        text-align: right;\n",
       "    }\n",
       "</style>\n",
       "<table border=\"1\" class=\"dataframe\">\n",
       "  <thead>\n",
       "    <tr style=\"text-align: right;\">\n",
       "      <th>Complaint Has Video Evidence</th>\n",
       "      <th>False</th>\n",
       "      <th>True</th>\n",
       "    </tr>\n",
       "    <tr>\n",
       "      <th>Is Full Investigation</th>\n",
       "      <th></th>\n",
       "      <th></th>\n",
       "    </tr>\n",
       "  </thead>\n",
       "  <tbody>\n",
       "    <tr>\n",
       "      <th>False</th>\n",
       "      <td>44529</td>\n",
       "      <td>584</td>\n",
       "    </tr>\n",
       "    <tr>\n",
       "      <th>True</th>\n",
       "      <td>21889</td>\n",
       "      <td>1465</td>\n",
       "    </tr>\n",
       "  </tbody>\n",
       "</table>\n",
       "</div>"
      ],
      "text/plain": [
       "Complaint Has Video Evidence  False  True \n",
       "Is Full Investigation                     \n",
       "False                         44529    584\n",
       "True                          21889   1465"
      ]
     },
     "execution_count": 8,
     "metadata": {},
     "output_type": "execute_result"
    }
   ],
   "source": [
    "ques6=new_data.groupby(['UniqueComplaintId','Complaint Has Video Evidence','Is Full Investigation'] ).count()\n",
    "ques6=ques6.reset_index(level=[1,2])\n",
    "\n",
    "from scipy import stats\n",
    "\n",
    "crosstab = pd.crosstab(ques6['Is Full Investigation'], ques6['Complaint Has Video Evidence'])\n",
    "crosstab"
   ]
  },
  {
   "cell_type": "code",
   "execution_count": 9,
   "metadata": {},
   "outputs": [
    {
     "data": {
      "text/plain": [
       "(1312.0319808202814,\n",
       " 2.744813207558423e-287,\n",
       " 1,\n",
       " array([[43762.91109586,  1350.08890414],\n",
       "        [22655.08890414,   698.91109586]]))"
      ]
     },
     "execution_count": 9,
     "metadata": {},
     "output_type": "execute_result"
    }
   ],
   "source": [
    "stats.chi2_contingency(crosstab)"
   ]
  },
  {
   "cell_type": "code",
   "execution_count": 10,
   "metadata": {},
   "outputs": [
    {
     "data": {
      "text/plain": [
       "array(['Discourtesy', 'Force', 'Abuse of Authority', 'Offensive Language'],\n",
       "      dtype=object)"
      ]
     },
     "execution_count": 10,
     "metadata": {},
     "output_type": "execute_result"
    }
   ],
   "source": [
    "new_data['Allegation FADO Type'].unique()"
   ]
  },
  {
   "cell_type": "code",
   "execution_count": 11,
   "metadata": {},
   "outputs": [],
   "source": [
    "ques7 = new_data.copy()\n",
    "ques7['F'] = ''\n",
    "ques7['A'] = ''\n",
    "ques7['D'] = ''\n",
    "ques7['O'] = ''\n",
    "\n",
    "conditions = [ques7['Allegation FADO Type'] == 'Discourtesy',\n",
    "              ques7['Allegation FADO Type'] == 'Force',\n",
    "              ques7['Allegation FADO Type'] == 'Abuse of Authority',\n",
    "              ques7['Allegation FADO Type'] == 'Offensive Language']\n",
    "choices_D = [True,False,False,False]\n",
    "choices_F = [False,True,False,False]\n",
    "choices_A = [False,False,True,False]\n",
    "choices_O = [False,False,False,True]\n",
    "\n",
    "ques7['F'] = np.select(conditions, choices_F)\n",
    "ques7['D'] = np.select(conditions, choices_D)\n",
    "ques7['A'] = np.select(conditions, choices_A)\n",
    "ques7['O'] = np.select(conditions, choices_O)"
   ]
  },
  {
   "cell_type": "code",
   "execution_count": 14,
   "metadata": {
    "scrolled": false
   },
   "outputs": [
    {
     "name": "stdout",
     "output_type": "stream",
     "text": [
      "[1.0078341356364786]\n",
      "[0.9893247344885125]\n",
      "[1.4522933359966437]\n",
      "[1.4701056259035243]\n"
     ]
    }
   ],
   "source": [
    "farshad = ques7.groupby(['UniqueComplaintId']).count()\n",
    "farshad = farshad.reset_index(level=[0])\n",
    "\n",
    "columns1 = ['UniqueComplaintId','F','A','D','O']\n",
    "ali = ques7.loc[:,columns1]\n",
    "ali2 = ali.groupby('UniqueComplaintId').sum()\n",
    "\n",
    "ali2['Total Sum'] = ali2.sum(axis = 1)\n",
    "ali2\n",
    "\n",
    "import matplotlib.pyplot as plt\n",
    "from sklearn.linear_model import LinearRegression\n",
    "from sklearn.cross_validation import train_test_split\n",
    "\n",
    "model_F = LinearRegression()\n",
    "model_A = LinearRegression()\n",
    "model_D = LinearRegression()\n",
    "model_O = LinearRegression()\n",
    "\n",
    "X_train_F = ali2['F'].values.reshape(len(ali2),1)\n",
    "Y_train_F = ali2['Total Sum']\n",
    "\n",
    "X_train_A = ali2['A'].values.reshape(len(ali2),1)\n",
    "Y_train_A = ali2['Total Sum']\n",
    "\n",
    "X_train_D = ali2['D'].values.reshape(len(ali2),1)\n",
    "Y_train_D = ali2['Total Sum']\n",
    "\n",
    "X_train_O = ali2['O'].values.reshape(len(ali2),1)\n",
    "Y_train_O = ali2['Total Sum']\n",
    "\n",
    "\n",
    "\n",
    "model_F.fit(X_train_F, Y_train_F)\n",
    "model_A.fit(X_train_A, Y_train_A)\n",
    "model_D.fit(X_train_D, Y_train_D)\n",
    "model_O.fit(X_train_O, Y_train_O)\n",
    "\n",
    "print(model_F.coef_)\n",
    "print(model_A.coef_)\n",
    "print(model_D.coef_)\n",
    "print(model_O.coef_)\n",
    "\n",
    "np.set_printoptions(precision=10)"
   ]
  },
  {
   "cell_type": "code",
   "execution_count": 15,
   "metadata": {},
   "outputs": [],
   "source": [
    "ques8 = pd.DataFrame(complaints[complaints['Incident Year'] == 2016].groupby(['Borough of Occurrence']).size()).reset_index()"
   ]
  },
  {
   "cell_type": "code",
   "execution_count": 16,
   "metadata": {},
   "outputs": [],
   "source": [
    "ques8.columns = ['Borough of Occurrence', 'Number of Complaints']"
   ]
  },
  {
   "cell_type": "code",
   "execution_count": 17,
   "metadata": {},
   "outputs": [
    {
     "data": {
      "text/html": [
       "<div>\n",
       "<style scoped>\n",
       "    .dataframe tbody tr th:only-of-type {\n",
       "        vertical-align: middle;\n",
       "    }\n",
       "\n",
       "    .dataframe tbody tr th {\n",
       "        vertical-align: top;\n",
       "    }\n",
       "\n",
       "    .dataframe thead th {\n",
       "        text-align: right;\n",
       "    }\n",
       "</style>\n",
       "<table border=\"1\" class=\"dataframe\">\n",
       "  <thead>\n",
       "    <tr style=\"text-align: right;\">\n",
       "      <th></th>\n",
       "      <th>Borough of Occurrence</th>\n",
       "      <th>Number of Complaints</th>\n",
       "    </tr>\n",
       "  </thead>\n",
       "  <tbody>\n",
       "    <tr>\n",
       "      <th>0</th>\n",
       "      <td>Bronx</td>\n",
       "      <td>2603</td>\n",
       "    </tr>\n",
       "    <tr>\n",
       "      <th>1</th>\n",
       "      <td>Brooklyn</td>\n",
       "      <td>3231</td>\n",
       "    </tr>\n",
       "    <tr>\n",
       "      <th>2</th>\n",
       "      <td>Manhattan</td>\n",
       "      <td>2316</td>\n",
       "    </tr>\n",
       "    <tr>\n",
       "      <th>3</th>\n",
       "      <td>Outside NYC</td>\n",
       "      <td>15</td>\n",
       "    </tr>\n",
       "    <tr>\n",
       "      <th>4</th>\n",
       "      <td>Queens</td>\n",
       "      <td>1646</td>\n",
       "    </tr>\n",
       "    <tr>\n",
       "      <th>5</th>\n",
       "      <td>Staten Island</td>\n",
       "      <td>493</td>\n",
       "    </tr>\n",
       "  </tbody>\n",
       "</table>\n",
       "</div>"
      ],
      "text/plain": [
       "  Borough of Occurrence  Number of Complaints\n",
       "0                 Bronx                  2603\n",
       "1              Brooklyn                  3231\n",
       "2             Manhattan                  2316\n",
       "3           Outside NYC                    15\n",
       "4                Queens                  1646\n",
       "5         Staten Island                   493"
      ]
     },
     "execution_count": 17,
     "metadata": {},
     "output_type": "execute_result"
    }
   ],
   "source": [
    "ques8"
   ]
  },
  {
   "cell_type": "code",
   "execution_count": 18,
   "metadata": {},
   "outputs": [
    {
     "data": {
      "text/html": [
       "<div>\n",
       "<style scoped>\n",
       "    .dataframe tbody tr th:only-of-type {\n",
       "        vertical-align: middle;\n",
       "    }\n",
       "\n",
       "    .dataframe tbody tr th {\n",
       "        vertical-align: top;\n",
       "    }\n",
       "\n",
       "    .dataframe thead th {\n",
       "        text-align: right;\n",
       "    }\n",
       "</style>\n",
       "<table border=\"1\" class=\"dataframe\">\n",
       "  <thead>\n",
       "    <tr style=\"text-align: right;\">\n",
       "      <th></th>\n",
       "      <th>Borough of Occurrence</th>\n",
       "      <th>Population</th>\n",
       "    </tr>\n",
       "  </thead>\n",
       "  <tbody>\n",
       "    <tr>\n",
       "      <th>0</th>\n",
       "      <td>Brooklyn</td>\n",
       "      <td>2648771</td>\n",
       "    </tr>\n",
       "    <tr>\n",
       "      <th>1</th>\n",
       "      <td>Bronx</td>\n",
       "      <td>1471160</td>\n",
       "    </tr>\n",
       "    <tr>\n",
       "      <th>2</th>\n",
       "      <td>Manhattan</td>\n",
       "      <td>1664727</td>\n",
       "    </tr>\n",
       "    <tr>\n",
       "      <th>3</th>\n",
       "      <td>Queens</td>\n",
       "      <td>2358582</td>\n",
       "    </tr>\n",
       "    <tr>\n",
       "      <th>4</th>\n",
       "      <td>Staten Island</td>\n",
       "      <td>479458</td>\n",
       "    </tr>\n",
       "  </tbody>\n",
       "</table>\n",
       "</div>"
      ],
      "text/plain": [
       "  Borough of Occurrence Population\n",
       "0              Brooklyn    2648771\n",
       "1                 Bronx    1471160\n",
       "2             Manhattan    1664727\n",
       "3                Queens    2358582\n",
       "4         Staten Island     479458"
      ]
     },
     "execution_count": 18,
     "metadata": {},
     "output_type": "execute_result"
    }
   ],
   "source": [
    "population"
   ]
  },
  {
   "cell_type": "code",
   "execution_count": 19,
   "metadata": {},
   "outputs": [
    {
     "data": {
      "text/plain": [
       "5.898832684824903"
      ]
     },
     "execution_count": 19,
     "metadata": {},
     "output_type": "execute_result"
    }
   ],
   "source": [
    "last = pd.merge(population, ques8)\n",
    "last['Complaints per Capita'] = last['Number of Complaints']/last['Population'].astype(str).astype(int)\n",
    "last['Number of Officers'] = round((last['Complaints per Capita']/last['Complaints per Capita'].sum())*36000)\n",
    "\n",
    "last['Number of Precincts'] = [23,12,22,16,4]\n",
    "last['Number of Officers per Precinct'] = round(last['Number of Officers']/last['Number of Precincts'])\n",
    "last['Number of Officers per Precinct'].max()/last['Number of Officers per Precinct'].min()"
   ]
  },
  {
   "cell_type": "code",
   "execution_count": null,
   "metadata": {},
   "outputs": [],
   "source": []
  }
 ],
 "metadata": {
  "kernelspec": {
   "display_name": "Python 3",
   "language": "python",
   "name": "python3"
  },
  "language_info": {
   "codemirror_mode": {
    "name": "ipython",
    "version": 3
   },
   "file_extension": ".py",
   "mimetype": "text/x-python",
   "name": "python",
   "nbconvert_exporter": "python",
   "pygments_lexer": "ipython3",
   "version": "3.6.6"
  }
 },
 "nbformat": 4,
 "nbformat_minor": 2
}
